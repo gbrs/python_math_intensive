{
 "cells": [
  {
   "cell_type": "code",
   "execution_count": 10,
   "metadata": {},
   "outputs": [],
   "source": [
    "from math import factorial as f"
   ]
  },
  {
   "cell_type": "markdown",
   "metadata": {},
   "source": [
    "Задача 1  \n",
    "В урне находится 20 белых, 5 красных и 10 чёрных шаров. Наугад извлекается 1 шар, найти вероятность того, что он будет белым. Ответ нужно вводить в формате десятичной дроби с 2 знаками после запятой."
   ]
  },
  {
   "cell_type": "code",
   "execution_count": 1,
   "metadata": {},
   "outputs": [
    {
     "data": {
      "text/plain": [
       "0.5714285714285714"
      ]
     },
     "execution_count": 1,
     "metadata": {},
     "output_type": "execute_result"
    }
   ],
   "source": [
    "20 / (20 + 5 + 10)"
   ]
  },
  {
   "cell_type": "markdown",
   "metadata": {},
   "source": [
    "Задача 2  \n",
    "В урне находится 5 белых, 5 красных и 10 чёрных шаров. Наугад извлекается 1 шар, найти вероятность того, что он будет черным. Ответ нужно вводить в формате десятичной дроби с 2 знаками после запятой."
   ]
  },
  {
   "cell_type": "code",
   "execution_count": 2,
   "metadata": {},
   "outputs": [
    {
     "data": {
      "text/plain": [
       "0.5"
      ]
     },
     "execution_count": 2,
     "metadata": {},
     "output_type": "execute_result"
    }
   ],
   "source": [
    "10 / (5 + 5 + 10)"
   ]
  },
  {
   "cell_type": "markdown",
   "metadata": {},
   "source": [
    "Задача 3  \n",
    "В магазин поступило 40 йогуртов, 10 из них оказались просроченными. Случайным образом выбирают 1 йогурт. Какая вероятность, что он окажется непросроченным? Ответ нужно вводить в формате десятичной дроби с 2 знаками после запятой."
   ]
  },
  {
   "cell_type": "code",
   "execution_count": 3,
   "metadata": {},
   "outputs": [
    {
     "data": {
      "text/plain": [
       "0.75"
      ]
     },
     "execution_count": 3,
     "metadata": {},
     "output_type": "execute_result"
    }
   ],
   "source": [
    "(40 - 10) / 40"
   ]
  },
  {
   "cell_type": "markdown",
   "metadata": {},
   "source": [
    "Задача 4  \n",
    "В лифт 10-этажного дома на **первом** этаже зашли и поехали 2 человека. Найти вероятность того, что они выйдут все на одном этаже."
   ]
  },
  {
   "cell_type": "code",
   "execution_count": 4,
   "metadata": {},
   "outputs": [
    {
     "data": {
      "text/plain": [
       "0.1111111111111111"
      ]
     },
     "execution_count": 4,
     "metadata": {},
     "output_type": "execute_result"
    }
   ],
   "source": [
    "9 / (9 * 9)"
   ]
  },
  {
   "cell_type": "markdown",
   "metadata": {},
   "source": [
    "Задача 5  \n",
    "Два курьера должны разнести 10 заказов по 10 адресам. Сколькими способами они могут распределить заказы?"
   ]
  },
  {
   "cell_type": "code",
   "execution_count": 25,
   "metadata": {},
   "outputs": [
    {
     "data": {
      "text/plain": [
       "1024"
      ]
     },
     "execution_count": 25,
     "metadata": {},
     "output_type": "execute_result"
    }
   ],
   "source": [
    "# каждый заказ берет либо один, либо другой: 0 или 1\n",
    "2 ** 10"
   ]
  },
  {
   "cell_type": "markdown",
   "metadata": {},
   "source": [
    "Задача 6  \n",
    "Менеджер должен в течении трех дней выполнить 6 задач. Сколькими способами он может распределить по дням работу, если будет выполнять не менее одной задачи в день?"
   ]
  },
  {
   "cell_type": "code",
   "execution_count": 23,
   "metadata": {},
   "outputs": [
    {
     "data": {
      "text/plain": [
       "10"
      ]
     },
     "execution_count": 23,
     "metadata": {},
     "output_type": "execute_result"
    }
   ],
   "source": [
    "'''\n",
    "шесть фигурок в ряд разделяем двумя палочками\n",
    "Если 1 в первый день, то вариантов разделения остается 4. Если 2, то 3...\n",
    "'''\n",
    "4 + 3 + 2 + 1"
   ]
  },
  {
   "cell_type": "markdown",
   "metadata": {},
   "source": [
    "Задача 7  \n",
    "В торговом центре происходит розыгрыш призов для покупателей. **Необходимо** из барабана вытащить бочонок с надписью “Вы выиграли!” или “Попробуйте еще раз”. \n",
    "Известно, что в барабане лежит 10 бочонков с надписью “Вы выиграли” и 20 с надписью “Попробуйте еще раз”. Также известно, что первый бочонок, который вытянул участник розыгрыша, был с надписью “Попробуйте еще раз”. С какой вероятностью второй бочонок, который вытянет участник, будет с надписью “Вы выиграли”? Ответ нужно вводить в формате десятичной дроби с 2 знаками после запятой."
   ]
  },
  {
   "cell_type": "code",
   "execution_count": 9,
   "metadata": {},
   "outputs": [
    {
     "data": {
      "text/plain": [
       "0.3448275862068966"
      ]
     },
     "execution_count": 9,
     "metadata": {},
     "output_type": "execute_result"
    }
   ],
   "source": [
    "10 / 29"
   ]
  },
  {
   "cell_type": "markdown",
   "metadata": {},
   "source": [
    "Задача 8  \n",
    "В городе N живет 100 жителей. Компания **хочет** запустить рекламу нового сервиса на  площадке, которая обещает, что 70 жителей города увидят рекламу. Какая вероятность, что случайно выбранных 10 жителей города, после запуска рекламы, скажут, что видели ее? Ответ нужно вводить в формате десятичной дроби с 2 знаками после запятой. **все 10**"
   ]
  },
  {
   "cell_type": "code",
   "execution_count": 13,
   "metadata": {},
   "outputs": [
    {
     "data": {
      "text/plain": [
       "0.022917240458021564"
      ]
     },
     "execution_count": 13,
     "metadata": {},
     "output_type": "execute_result"
    }
   ],
   "source": [
    "# C 10 70 / C 10 100\n",
    "(f(70) / f(10) / f(60)) / (f(100) / f(10) / f(90))"
   ]
  },
  {
   "cell_type": "code",
   "execution_count": 16,
   "metadata": {},
   "outputs": [
    {
     "data": {
      "text/plain": [
       "0.022917240458021564"
      ]
     },
     "execution_count": 16,
     "metadata": {},
     "output_type": "execute_result"
    }
   ],
   "source": [
    "# https://geleot.ru/education/math/algebra/combinatorics/combinations\n",
    "396704524216 / 17310309456440"
   ]
  },
  {
   "cell_type": "markdown",
   "metadata": {},
   "source": [
    "Задача 9  \n",
    "В компании работает 5 продуктовых аналитиков, 5 маркетинговых аналитиков и 4 бизнес-аналитика. Для срочного решения задачи от руководства случайным образом выбирают трех сотрудников. Какая вероятность, что все 3 сотрудника окажутся из одного отдела (продуктовых, маркетинговых или бизнес-аналитиков)?  \n",
    "Ответ нужно вводить в формате десятичной дроби с 2 знаками после запятой."
   ]
  },
  {
   "cell_type": "code",
   "execution_count": 19,
   "metadata": {},
   "outputs": [
    {
     "data": {
      "text/plain": [
       "0.06593406593406594"
      ]
     },
     "execution_count": 19,
     "metadata": {},
     "output_type": "execute_result"
    }
   ],
   "source": [
    "# (С 3 5 + С 3 5 + С 3 4) / С 3 14\n",
    "(2 * f(5) / f(3) / f(2) + f(4) / f(3) / f(1)) / (f(14) / f(3) / f(11))"
   ]
  },
  {
   "cell_type": "code",
   "execution_count": 20,
   "metadata": {},
   "outputs": [
    {
     "data": {
      "text/plain": [
       "0.06593406593406594"
      ]
     },
     "execution_count": 20,
     "metadata": {},
     "output_type": "execute_result"
    }
   ],
   "source": [
    "(2 * 10 + 4) / 364"
   ]
  },
  {
   "cell_type": "markdown",
   "metadata": {},
   "source": [
    "Задача 10  \n",
    "Пользователь ищет на карте ближайшую закусочную. Известно, что на карте есть 10 рекомендованных мест с **высокой оценкой**. Всего закусочных на карте - 58. Пользователь выбирает закусочную и идет туда обедать. Какая вероятность, что пользователь выбрал именно рекомендованную закусочную? Ответ нужно вводить в формате десятичной дроби с 2 знаками после запятой."
   ]
  },
  {
   "cell_type": "code",
   "execution_count": 21,
   "metadata": {},
   "outputs": [
    {
     "data": {
      "text/plain": [
       "0.1724137931034483"
      ]
     },
     "execution_count": 21,
     "metadata": {},
     "output_type": "execute_result"
    }
   ],
   "source": [
    "10 / 58"
   ]
  },
  {
   "cell_type": "code",
   "execution_count": null,
   "metadata": {},
   "outputs": [],
   "source": []
  }
 ],
 "metadata": {
  "kernelspec": {
   "display_name": "Python 3",
   "language": "python",
   "name": "python3"
  },
  "language_info": {
   "codemirror_mode": {
    "name": "ipython",
    "version": 3
   },
   "file_extension": ".py",
   "mimetype": "text/x-python",
   "name": "python",
   "nbconvert_exporter": "python",
   "pygments_lexer": "ipython3",
   "version": "3.7.6"
  }
 },
 "nbformat": 4,
 "nbformat_minor": 4
}
