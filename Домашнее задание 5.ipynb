{
 "cells": [
  {
   "cell_type": "markdown",
   "metadata": {
    "id": "mwj0NQ4ifgwW"
   },
   "source": [
    "# Домашнее задание 5"
   ]
  },
  {
   "cell_type": "markdown",
   "metadata": {
    "id": "ifiXGzllflp5"
   },
   "source": [
    "## Задание 1"
   ]
  },
  {
   "cell_type": "markdown",
   "metadata": {
    "id": "y-GogfpB5YQM"
   },
   "source": [
    "Создайте класс Товар, который будет содержать переменные: название товара, артикул. \n",
    "\n",
    "Создайте класс Категория товара, который будет содержать переменные: название категории, товары в категории. Также необходимо реализовать метод, который позволит добавлять товары (объект класса Товар) в категорию (список).\n",
    "\n",
    "Далее создайте класс Пользователь, который будет содержать переменные: имя пользователя, любимые категории. Добаьте метод, который позволит \"ставить лайк\" категории товара (то есть объекту класса Категория товара). Поставить лайк - это добавить категорию в список любимых категорий.\n",
    "\n",
    "Далее реализуйте сценарий, в котором:\n",
    "\n",
    "\n",
    "*   Добавляем 2 произвольных товара\n",
    "*   Затем создаем 1 категория\n",
    "* Далее в категорию добавляем 2 товара\n",
    "* Добавляем 3 произвольных товара\n",
    "* Создаем еще 2 категории\n",
    "* В одну из новых категорий добавляем все 3 новых товара\n",
    "* Затем выводим на экран содержимое всех 3 категорий\n",
    "* Создаем пользователя\n",
    "* Добавляем в любимые категории пользователя 2 произвольные категории и выводим их на экран\n",
    "\n"
   ]
  },
  {
   "cell_type": "code",
   "execution_count": 1,
   "metadata": {
    "id": "xU6U3uYWfk7j"
   },
   "outputs": [
    {
     "name": "stdout",
     "output_type": "stream",
     "text": [
      "['jeans', 'shirt']\n",
      "['War and Peace', 'Pride and Prejudice', 'Master and Margarita']\n",
      "[]\n",
      "\n",
      "['clothes', 'cars']\n"
     ]
    }
   ],
   "source": [
    "# необходимо отправить код решения с комментариями (обязательно, без комментариев работа не будет считаться выполненной). \n",
    "# Далее на разборе домашнего задания, мы разберем различные варианты решения\n",
    "\n",
    "# создаем три класса\n",
    "class Goods:\n",
    "    def __init__(self, name, code):\n",
    "        self.goods_name = name\n",
    "        self.vendor_code = code\n",
    "\n",
    "\n",
    "class GoodsCategory:\n",
    "    def __init__(self, name):\n",
    "        self.category_name = name\n",
    "        self.category_goods = []\n",
    "\n",
    "    def add_goods(self, goods):\n",
    "        self.category_goods.append(goods.goods_name)\n",
    "\n",
    "\n",
    "class User:\n",
    "    def __init__(self, name):\n",
    "        self.user_name = name\n",
    "        self.favorite_categories = []\n",
    "\n",
    "    def like_category(self, category):\n",
    "        self.favorite_categories.append(category.category_name)\n",
    "\n",
    "\n",
    "# создаем 2 товара, класс для них и добавляем товары в класс\n",
    "jeans = Goods('jeans', '4242')\n",
    "shirt = Goods('shirt', '2022')\n",
    "\n",
    "clothes = GoodsCategory('clothes')\n",
    "clothes.add_goods(jeans)\n",
    "clothes.add_goods(shirt)\n",
    "\n",
    "# создаем 3 товара, класс для них и добавляем товары в класс\n",
    "w_and_p = Goods('War and Peace', '1869')\n",
    "p_and_p = Goods('Pride and Prejudice', '1813')\n",
    "m_and_m = Goods('Master and Margarita', '1967')\n",
    "\n",
    "books = GoodsCategory('books')\n",
    "books.add_goods(w_and_p)\n",
    "books.add_goods(p_and_p)\n",
    "books.add_goods(m_and_m)\n",
    "\n",
    "# создаем третий класс, но не добавляем в него ничего\n",
    "cars = GoodsCategory('cars')\n",
    "\n",
    "# напечатаем товары, принадлежащие каждой категории\n",
    "print(clothes.category_goods, books.category_goods, cars.category_goods, sep='\\n')\n",
    "print()\n",
    "\n",
    "# создадим пользователя и добавим его две любимые категории\n",
    "uzver = User('Uzverev Uzver Uzverevich')\n",
    "uzver.like_category(clothes)\n",
    "uzver.like_category(cars)\n",
    "\n",
    "# напечатаем любимые категории пользователя\n",
    "print(uzver.favorite_categories)\n",
    "    "
   ]
  },
  {
   "cell_type": "markdown",
   "metadata": {
    "id": "sL3AOp1h_vBv"
   },
   "source": [
    "## Задание 2"
   ]
  },
  {
   "cell_type": "markdown",
   "metadata": {
    "id": "Z56j_ync_vB-"
   },
   "source": [
    "Создайте класс Бакалея. В переменных укажите количество в килограммах. Также добавьте метод Готовить, в результате вызова которого для объекта класса Бакалея, будет выводится сообщение о начале приготовления.\n",
    "\n",
    "Создайте дочерний класс от класса Бакалея - Консервы. Укажите в качестве переменных (помимо унаследованных): название, необходимость приготовления (можно есть сразу или нужно приготовить), категорию - рыбные/мясные/другие. Также добавьте метод Открыть (помимо существующего метода), в результате работы которого будет выведено на экран сообщение об открытии банки консервов.\n",
    "\n",
    "Создайте дочерний класс от класса Бакалея - Каши. Укажите в качестве переменных (помимо унаследованных): название, необходимость варки (варить или другой способ приготовления), необходимость промыть перед готовкой (надо или не надо), можно ли есть с молоком (да или нет). Также добавьте метод Эксперимент (помимо существующего метода), в результате работы которого будет выведено на экран сообщение о необычном блюде из любой крупы. \n",
    "\n",
    "Продумайте план тестирования и протестируйте созданные классы (создайте объекты, выведите на экран, проверьте работоспобность методов).\n",
    "\n"
   ]
  },
  {
   "cell_type": "code",
   "execution_count": null,
   "metadata": {
    "id": "5QLf3ktk_vB-"
   },
   "outputs": [],
   "source": [
    "#необходимо отправить код решения с комментариями (обязательно, без комментариев работа не будет считаться выполненной). Далее на разборе домашнего задания, мы разберем различные варианты решения"
   ]
  },
  {
   "cell_type": "code",
   "execution_count": null,
   "metadata": {
    "id": "2WQL8HzMfUx8"
   },
   "outputs": [],
   "source": []
  }
 ],
 "metadata": {
  "colab": {
   "provenance": [
    {
     "file_id": "1bkQAfw8uzbOJ4KgOUb_RM4lHi-HzkSZ3",
     "timestamp": 1664046752821
    }
   ]
  },
  "kernelspec": {
   "display_name": "Python 3",
   "language": "python",
   "name": "python3"
  },
  "language_info": {
   "codemirror_mode": {
    "name": "ipython",
    "version": 3
   },
   "file_extension": ".py",
   "mimetype": "text/x-python",
   "name": "python",
   "nbconvert_exporter": "python",
   "pygments_lexer": "ipython3",
   "version": "3.7.6"
  }
 },
 "nbformat": 4,
 "nbformat_minor": 1
}
