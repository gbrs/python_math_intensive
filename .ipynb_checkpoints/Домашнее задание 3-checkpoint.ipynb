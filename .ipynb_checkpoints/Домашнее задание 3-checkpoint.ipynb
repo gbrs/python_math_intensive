{
 "cells": [
  {
   "cell_type": "markdown",
   "metadata": {
    "id": "ZEfFasFJqw1A"
   },
   "source": [
    "# Домашнее задание №3"
   ]
  },
  {
   "cell_type": "markdown",
   "metadata": {
    "id": "DCG5sNU051Re"
   },
   "source": [
    "Во всех задачах для ввода данных используйте `input()`, а для вывода данных используйте `print()`"
   ]
  },
  {
   "cell_type": "markdown",
   "metadata": {
    "id": "NFpHXzQ6qJxb"
   },
   "source": [
    "## Задача №1\n",
    "\n",
    "**Условие:** Необходимо ввести с клавиатуры последовательность натуральных чисел, каждое число на новой строке. Последовательность завершается числом 0. Необходимо найти наибольший элемент в последовательности.\n",
    "\n",
    "**Пример для проверки:**  \n",
    "*Входные данные*     \n",
    "1                       \n",
    "8  \n",
    "4  \n",
    "0  \n",
    "*Выходные данные*   \n",
    "8\n"
   ]
  },
  {
   "cell_type": "code",
   "execution_count": 20,
   "metadata": {},
   "outputs": [
    {
     "name": "stdout",
     "output_type": "stream",
     "text": [
      "5\n",
      "3\n",
      "19\n",
      "55\n",
      "43\n",
      "23\n",
      "89\n",
      "43\n",
      "88\n",
      "32\n",
      "81\n",
      "12\n",
      "89\n",
      "11\n",
      "0\n",
      "3\n"
     ]
    }
   ],
   "source": [
    "current = int(input())\n",
    "mn = current\n",
    "while current:\n",
    "    mn = min(current, mn)\n",
    "    current = int(input())\n",
    "print(mn)"
   ]
  },
  {
   "cell_type": "markdown",
   "metadata": {
    "id": "BXBB8FYxVrQ7"
   },
   "source": [
    "## Задача №2\n",
    "\n",
    "**Условие:** Дана строка. Необходимо удалить из этой строки все символы %. Для решения задачи используйте цикл.\n",
    "\n",
    "**Пример для проверки:**  \n",
    "*Входные данные*  \n",
    "GHRE%%%%fd%dfjkan%%fleo%%%%r%fe%  \n",
    "*Выходные данные*  \n",
    "GHREfddfjkanfleorfe\n",
    "\n",
    "\n"
   ]
  },
  {
   "cell_type": "code",
   "execution_count": 3,
   "metadata": {},
   "outputs": [
    {
     "name": "stdout",
     "output_type": "stream",
     "text": [
      "ds\n",
      "ds\n"
     ]
    }
   ],
   "source": [
    "answer = ''\n",
    "for char in input():\n",
    "    if char != '%':\n",
    "        answer = ''.join([answer, char])\n",
    "print(answer)"
   ]
  },
  {
   "cell_type": "markdown",
   "metadata": {
    "id": "x8ciCybeW2xC"
   },
   "source": [
    "## Задача №3\n",
    "\n",
    "**Условие:** Даны два целых числа A и B (при этом A ≤ B). Выведите все числа от A включительно до B включительно (математическая запись - [A, B]).\n",
    "\n",
    "**Пример для проверки:**  \n",
    "*Входные данные*  \n",
    "1  \n",
    "10  \n",
    "*Выходные данные*  \n",
    "1 2 3 4 5 6 7 8 9 10\n",
    "\n"
   ]
  },
  {
   "cell_type": "code",
   "execution_count": 5,
   "metadata": {},
   "outputs": [
    {
     "name": "stdout",
     "output_type": "stream",
     "text": [
      "-5\n",
      "12\n",
      "-5 -4 -3 -2 -1 0 1 2 3 4 5 6 7 8 9 10 11 12 "
     ]
    }
   ],
   "source": [
    "for number in range(int(input()), int(input()) + 1):\n",
    "    print(number, end=' ')"
   ]
  },
  {
   "cell_type": "markdown",
   "metadata": {
    "id": "VJZuJcAAX2Td"
   },
   "source": [
    "## Задача №4\n",
    "\n",
    "**Условие:** Необходимо ввести с клавиатуры 10 целых чисел. Вычислите сумму введенных чисел. \n",
    "\n",
    "**Пример для проверки:**  \n",
    "*Входные данные*  \n",
    "8  \n",
    "4  \n",
    "5  \n",
    "3  \n",
    "9  \n",
    "2  \n",
    "3   \n",
    "4  \n",
    "5  \n",
    "1  \n",
    "*Выходные данные*  \n",
    "44\n"
   ]
  },
  {
   "cell_type": "code",
   "execution_count": 6,
   "metadata": {},
   "outputs": [
    {
     "name": "stdout",
     "output_type": "stream",
     "text": [
      "758\n",
      "483\n",
      "893\n",
      "393\n",
      "293\n",
      "292\n",
      "292\n",
      "485\n",
      "828\n",
      "183\n",
      "4900\n"
     ]
    }
   ],
   "source": [
    "sm = 0\n",
    "for i in range(10):\n",
    "    sm += int(input())\n",
    "print(sm)"
   ]
  },
  {
   "cell_type": "markdown",
   "metadata": {
    "id": "Muk2CUktYmUk"
   },
   "source": [
    "## Задача №5\n",
    "\n",
    "**Условие:** Факториалом числа n называется произведение 1 * 2 * ... * n. Обозначение: n!.\n",
    "Введите с клавиатуры натуральное число n. Вычислите значение n!. \n",
    "\n",
    "В решении задачи нельзя использовать математическую библиотеку math.\n",
    "\n",
    "**Пример для проверки:**  \n",
    "*Входные данные*  \n",
    "7  \n",
    "*Выходные данные*  \n",
    "5040\n",
    "\n"
   ]
  },
  {
   "cell_type": "code",
   "execution_count": 7,
   "metadata": {},
   "outputs": [
    {
     "name": "stdout",
     "output_type": "stream",
     "text": [
      "12\n",
      "479001600\n"
     ]
    }
   ],
   "source": [
    "f = 1\n",
    "for i in range(int(input())):\n",
    "    f *= i + 1\n",
    "print(f)"
   ]
  }
 ],
 "metadata": {
  "colab": {
   "provenance": [
    {
     "file_id": "1kMmToxlG_o52paUDzazvLDmolwCcc4nI",
     "timestamp": 1662473450275
    }
   ]
  },
  "kernelspec": {
   "display_name": "Python 3",
   "language": "python",
   "name": "python3"
  },
  "language_info": {
   "codemirror_mode": {
    "name": "ipython",
    "version": 3
   },
   "file_extension": ".py",
   "mimetype": "text/x-python",
   "name": "python",
   "nbconvert_exporter": "python",
   "pygments_lexer": "ipython3",
   "version": "3.7.6"
  }
 },
 "nbformat": 4,
 "nbformat_minor": 1
}
