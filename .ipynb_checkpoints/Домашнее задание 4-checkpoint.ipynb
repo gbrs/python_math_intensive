{
 "cells": [
  {
   "cell_type": "markdown",
   "metadata": {
    "id": "ZEfFasFJqw1A"
   },
   "source": [
    "# Домашнее задание №4"
   ]
  },
  {
   "cell_type": "markdown",
   "metadata": {
    "id": "DCG5sNU051Re"
   },
   "source": [
    "Во всех задачах для ввода данных используйте `input()`, а для вывода данных используйте `print()`"
   ]
  },
  {
   "cell_type": "markdown",
   "metadata": {
    "id": "NFpHXzQ6qJxb"
   },
   "source": [
    "## Задача №1\n",
    "\n",
    "**Условие:** Выведите на экран все нечетные элементы списка (речь не про нечетные индексы, а именно про нечетные элементы).\n",
    "\n",
    "**Пример для проверки:**  \n",
    "*Входные данные (в одну строку, через пробел)*     \n",
    "1 1 1 1 1 2 2 2 2 13 16  \n",
    "*Выходные данные (в одну строку, через пробел)*   \n",
    "1 1 1 1 1 13\n"
   ]
  },
  {
   "cell_type": "code",
   "execution_count": null,
   "metadata": {},
   "outputs": [],
   "source": [
    "print(*[number for number in map(int, input().split()) if number % 2])"
   ]
  },
  {
   "cell_type": "markdown",
   "metadata": {
    "id": "BXBB8FYxVrQ7"
   },
   "source": [
    "## Задача №2\n",
    "\n",
    "**Условие:** Необходимо вывести все элементы списка на экран, которые делятся на 4.\n",
    "\n",
    "**Пример для проверки:**  \n",
    "*Входные данные*  \n",
    "16 28 32 1000 1567 1577   \n",
    "*Выходные данные*  \n",
    "16 32 1000 1577\n",
    "\n",
    "\n"
   ]
  },
  {
   "cell_type": "code",
   "execution_count": null,
   "metadata": {},
   "outputs": [],
   "source": [
    "print(*[number for number in map(int, input().split()) if not number % 4])"
   ]
  },
  {
   "cell_type": "markdown",
   "metadata": {
    "id": "x8ciCybeW2xC"
   },
   "source": [
    "## Задача №3\n",
    "\n",
    "**Условие:** Дан список чисел. Необходимо переставить местами соседние элементы. Если количество элементов нечетное, то последний элемент ставится на первое место после перестановки.\n",
    "\n",
    "**Пример для проверки:**  \n",
    "*Входные данные*  \n",
    "3 10 5 8 39 23 89    \n",
    "*Выходные данные*  \n",
    "89 10 3 8 5 23 39\n",
    "\n"
   ]
  },
  {
   "cell_type": "code",
   "execution_count": null,
   "metadata": {},
   "outputs": [],
   "source": [
    "numbers = list(map(int, input().split()))\n",
    "for i in range(0, len(numbers) - 1, 2):\n",
    "    numbers[i], numbers[i + 1] = numbers[i + 1], numbers[i]\n",
    "if len(numbers) % 2:\n",
    "    numbers.insert(0, numbers.pop())\n",
    "print(*numbers)"
   ]
  },
  {
   "cell_type": "markdown",
   "metadata": {
    "id": "VJZuJcAAX2Td"
   },
   "source": [
    "## Задача №4\n",
    "\n",
    "**Условие:** Дан список чисел. Необходимо ввести целое число n. Если элемент в списке больше или равен числу n - оставляем элемент в списке, а если нет, то удаляем из списка. \n",
    "\n",
    "**Пример для проверки:**  \n",
    "*Входные данные*  \n",
    "1 4 7 8 1 22 9 2 567  \n",
    "20  \n",
    "*Выходные данные*  \n",
    "22 567\n"
   ]
  },
  {
   "cell_type": "code",
   "execution_count": null,
   "metadata": {},
   "outputs": [],
   "source": [
    "numbers = list(map(int, input().split()))\n",
    "ordinar = int(input())\n",
    "print(*[number for number in numbers if number >= ordinar])"
   ]
  },
  {
   "cell_type": "markdown",
   "metadata": {
    "id": "Muk2CUktYmUk"
   },
   "source": [
    "## Задача №5\n",
    "\n",
    "**Условие:** В списке хранятся данные о том, какие государственные номера для автомобилей уже выданы ранее. Необходимо написать программу, которая по введенному номеру, будет определять занят он или нет. Если занят, то необходимо вывести ответ в формате \"Номер e349ee - занят\". Если не занят, то необходимо вывести ответ в формате \"Номер у490уу - не занят\".\n",
    "\n",
    "**Пример для проверки:**  \n",
    "*Входные данные*  \n",
    "у788гш у429лг у892тт  \n",
    "у788гш  \n",
    "*Выходные данные*  \n",
    "Номер у788гш - занят\n",
    "\n"
   ]
  },
  {
   "cell_type": "code",
   "execution_count": null,
   "metadata": {},
   "outputs": [],
   "source": [
    "plates = set(input().split())\n",
    "request = input()\n",
    "if request in plates:\n",
    "    print(f'Номер {request} - занят')\n",
    "else:\n",
    "    print(f'Номер {request} - не занят')"
   ]
  },
  {
   "cell_type": "markdown",
   "metadata": {
    "id": "-qbwHbS91M1f"
   },
   "source": [
    "## Задача №6\n",
    "\n",
    "**Условие:** Частотный анализ списка. Дан список, состоящий из натуральных чисел. Необходимо вывести сколько раз встречается каждое число в порядке возрастания чисел.\n",
    "\n",
    "**Пример для проверки:**  \n",
    "*Входные данные*  \n",
    "1 4 8 9 2 78 33 23 33 2 4   \n",
    "*Выходные данные*    \n",
    "1 1  \n",
    "2 2  \n",
    "4 2  \n",
    "8 1  \n",
    "9 1  \n",
    "23 1  \n",
    "33 2  \n",
    "78 1\n"
   ]
  },
  {
   "cell_type": "code",
   "execution_count": null,
   "metadata": {},
   "outputs": [],
   "source": [
    "numbers = list(map(int, input().split()))\n",
    "dct = {}\n",
    "for number in numbers:\n",
    "    dct[number] = dct.setdefault(number, 0) + 1\n",
    "for key, val in sorted(dct.items()):\n",
    "    print(key, val)"
   ]
  },
  {
   "cell_type": "markdown",
   "metadata": {
    "id": "lG5JNbLO3TlV"
   },
   "source": [
    "## Задача №7\n",
    "\n",
    "**Условие:** Дан текст, содержащий знаки препинания. Необходимо определить количество запятых и точек в тексте.\n",
    "\n",
    "**Пример для проверки:**  \n",
    "*Входные данные*  \n",
    "Уж небо осенью дышало, Уж реже солнышко блистало, Короче становился день, Лесов таинственная сень С печальным шумом обнажалась, Ложился на поля туман, Гусей крикливых караван Тянулся к югу: приближалась Довольно скучная пора; Стоял ноябрь уж у двора.  \n",
    "*Выходные данные*    \n",
    "Запятые - 5  \n",
    "Точки - 1\n"
   ]
  },
  {
   "cell_type": "code",
   "execution_count": null,
   "metadata": {},
   "outputs": [],
   "source": [
    "s = input()\n",
    "print(f\"Запятые - {s.count(',')}\")\n",
    "print(f\"Точки - {s.count('.')}\")"
   ]
  },
  {
   "cell_type": "markdown",
   "metadata": {
    "id": "mN_CuHj6_wgB"
   },
   "source": [
    "## Задача №8\n",
    "\n",
    "**Условие:** Дана база данных интернет-магазина. Строчка состоит из id пользователя, названия товара (одно слово без пробела) и количество приобретенного товара. Для каждого id пользователя необходимо составить перечень приобретенных товаров, при этом одинаковые товары из списка необходимо сложить и вывести общую сумму приобретенных товаров. \n",
    "\n",
    "**Пример для проверки:**  \n",
    "*Входные данные*  \n",
    "1289009 футболка 5  \n",
    "1289009 джинсы 2  \n",
    "1289003 футболка 3  \n",
    "1289013 блузы 5  \n",
    "1289009 футболка 2  \n",
    "1289003 джинсы 3  \n",
    "*Выходные данные*    \n",
    "1289009  \n",
    "футболка 7  \n",
    "джинсы 2  \n",
    "1289003  \n",
    "футболка 3  \n",
    "джинсы 3  \n",
    "1289013  \n",
    "блузы 5  \n"
   ]
  },
  {
   "cell_type": "code",
   "execution_count": null,
   "metadata": {},
   "outputs": [],
   "source": [
    "dct = {}\n",
    "for i in range(6):\n",
    "    user_id, goods, quantity = input().split()\n",
    "    quantity = int(quantity)\n",
    "    dct[user_id] = dct.setdefault(user_id, {})\n",
    "    dct[user_id][goods] = dct[user_id].setdefault(goods, 0) + quantity\n",
    "for user_id in dct:\n",
    "    print(user_id)\n",
    "    for goods in dct[user_id]:\n",
    "        print(goods, dct[user_id][goods])"
   ]
  },
  {
   "cell_type": "markdown",
   "metadata": {
    "id": "B0hLBDAiFKPz"
   },
   "source": [
    "## Задача №9\n",
    "\n",
    "**Условие:** Дано два списка. Напишите программу, которая найдет все элементы, которые принадлежат первому списку и не принадлежат второму. \n",
    "\n",
    "**Пример для проверки:**  \n",
    "*Входные данные*  \n",
    "2 4 6 8 10  \n",
    "5 10 15 25  \n",
    "*Выходные данные*    \n",
    "2 4 6 8\n"
   ]
  },
  {
   "cell_type": "code",
   "execution_count": null,
   "metadata": {},
   "outputs": [],
   "source": [
    "numbers1 = list(input().split())\n",
    "numbers2 = set(input().split())\n",
    "print(*[number for number in numbers1 if number not in numbers2])"
   ]
  },
  {
   "cell_type": "code",
   "execution_count": null,
   "metadata": {},
   "outputs": [],
   "source": [
    "# не обрабатывает возможных повторов и сортирует вывод\n",
    "numbers1 = set(input().split())\n",
    "numbers2 = set(input().split())\n",
    "print(*sorted(numbers1 - numbers2))"
   ]
  },
  {
   "cell_type": "markdown",
   "metadata": {
    "id": "dsGj1MP7GrQA"
   },
   "source": [
    "## Задача №10\n",
    "\n",
    "**Условие:** Напишите фукнцию, которая будет находить наибольший общий делитель для двух чисел.\n",
    "\n",
    "**Пример для проверки:**  \n",
    "*Входные данные*  \n",
    "9  \n",
    "6   \n",
    "*Выходные данные*    \n",
    "3  \n"
   ]
  },
  {
   "cell_type": "code",
   "execution_count": 13,
   "metadata": {},
   "outputs": [
    {
     "name": "stdout",
     "output_type": "stream",
     "text": [
      "462\n",
      "1071\n",
      "21\n"
     ]
    }
   ],
   "source": [
    "def euclid(x, y):\n",
    "    if x % y:\n",
    "        euclid(y, x % y)\n",
    "    else:\n",
    "        print(y)\n",
    "        return y\n",
    "\n",
    "euclid(int(input()), int(input()))\n",
    "# euclid(1071, 462)"
   ]
  },
  {
   "cell_type": "markdown",
   "metadata": {
    "id": "YEsAqQ_zG8XJ"
   },
   "source": [
    "## Задача №11\n",
    "\n",
    "**Условие:** Напишите фукнцию, которая определяет по введенному числу, четное оно или нет. Если число четное, то выведите True, а если нет, то False.\n",
    "\n",
    "**Пример для проверки:**  \n",
    "*Входные данные*  \n",
    "10   \n",
    "*Выходные данные*    \n",
    "True  \n"
   ]
  },
  {
   "cell_type": "code",
   "execution_count": null,
   "metadata": {},
   "outputs": [],
   "source": [
    "def is_even(x):\n",
    "    if x % 2:\n",
    "        return False\n",
    "    return True\n",
    "\n",
    "print(is_even(int(input())))"
   ]
  },
  {
   "cell_type": "markdown",
   "metadata": {
    "id": "OfXAhLahH28D"
   },
   "source": [
    "## Задача №12\n",
    "\n",
    "**Условие:** Напишите фукнцию, которая определяет по тексту, является ли он палиндромом. Если является, то выведите Yes, а если нет, то No.\n",
    "\n",
    "**Пример для проверки:**  \n",
    "*Входные данные*  \n",
    "Искать такси   \n",
    "*Выходные данные*    \n",
    "Yes  \n"
   ]
  },
  {
   "cell_type": "code",
   "execution_count": null,
   "metadata": {},
   "outputs": [],
   "source": [
    "def is_palindrom(x):\n",
    "    x = ''.join(x.lower().split())\n",
    "    if x != x[::-1]:\n",
    "        return 'No'\n",
    "    return 'Yes'\n",
    "\n",
    "print(is_palindrom(input()))"
   ]
  }
 ],
 "metadata": {
  "colab": {
   "provenance": [
    {
     "file_id": "1eLglH2zkMTE_U5ZYRWACCUFEjytXYtC6",
     "timestamp": 1663353389294
    }
   ]
  },
  "kernelspec": {
   "display_name": "Python 3",
   "language": "python",
   "name": "python3"
  },
  "language_info": {
   "codemirror_mode": {
    "name": "ipython",
    "version": 3
   },
   "file_extension": ".py",
   "mimetype": "text/x-python",
   "name": "python",
   "nbconvert_exporter": "python",
   "pygments_lexer": "ipython3",
   "version": "3.7.6"
  }
 },
 "nbformat": 4,
 "nbformat_minor": 1
}
