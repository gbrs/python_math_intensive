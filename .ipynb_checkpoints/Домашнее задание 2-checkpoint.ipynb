{
 "cells": [
  {
   "cell_type": "markdown",
   "metadata": {
    "id": "ZEfFasFJqw1A"
   },
   "source": [
    "# Домашнее задание №2"
   ]
  },
  {
   "cell_type": "markdown",
   "metadata": {
    "id": "NFpHXzQ6qJxb"
   },
   "source": [
    "## Задача №1\n",
    "\n",
    "**Условие:** Напишите программу, которая позволяет найти сумму и произведение 3-ех целых чисел. Числа необходимо вводить с клавиатуры. Выведите на экран результат сложения и умножения через запятую в одной строке.\n",
    "\n",
    "**Данные для получения ответа:**\n",
    "3, 8, 2\n",
    "\n",
    "**Варианты ответа для Canvas:**\n",
    "\n",
    "\n",
    "1. 13 48 \n",
    "2. 13, 48\n",
    "3. 48\n",
    "4. 48, 13  \n",
    "\n"
   ]
  },
  {
   "cell_type": "code",
   "execution_count": 3,
   "metadata": {},
   "outputs": [
    {
     "name": "stdout",
     "output_type": "stream",
     "text": [
      "3\n",
      "8\n",
      "2\n",
      "13, 48\n"
     ]
    }
   ],
   "source": [
    "a = int(input())\n",
    "b = int(input())\n",
    "c = int(input())\n",
    "print(a + b + c, a * b * c, sep=', ')"
   ]
  },
  {
   "cell_type": "markdown",
   "metadata": {},
   "source": [
    "1"
   ]
  },
  {
   "cell_type": "markdown",
   "metadata": {
    "id": "BXBB8FYxVrQ7"
   },
   "source": [
    "## Задача №2\n",
    "\n",
    "**Условие:** Напишите программу для пересчёта величины временного интервала, заданного в минутах, в величину, выраженную в часах и минутах. Необходимо вывести сообщение вида x минут - это m час n минут.\n",
    "\n",
    "**Данные для получения ответа:**\n",
    "115\n",
    "\n",
    "**Варианты ответа для Canvas:**\n",
    "\n",
    "\n",
    "1. 115 минут - 1,92 час \n",
    "2. 1 час 55 минут\n",
    "3. 115 минут - 1 час 55 минут\n",
    "4. 115 минут - 2 час\n",
    "\n"
   ]
  },
  {
   "cell_type": "code",
   "execution_count": 4,
   "metadata": {},
   "outputs": [
    {
     "name": "stdout",
     "output_type": "stream",
     "text": [
      "115 минут - 1 час 55 минут\n"
     ]
    }
   ],
   "source": [
    "x = 115\n",
    "print(f'{x} минут - {x // 60} час {x % 60} минут')"
   ]
  },
  {
   "cell_type": "markdown",
   "metadata": {},
   "source": [
    "3"
   ]
  },
  {
   "cell_type": "markdown",
   "metadata": {
    "id": "x8ciCybeW2xC"
   },
   "source": [
    "## Задача №3\n",
    "\n",
    "**Условие:** Напишите программу для пересчёта величины временного интервала, заданного в минутах, в величину, выраженную в часах и минутах. Необходимо вывести сообщение вида m час n минут с учетом правильного отображения форм слов \"час\" и \"минута\" (в зависимости от полученного результата).\n",
    "\n",
    "**Данные для получения ответа:**\n",
    "45\n",
    "\n",
    "**Варианты ответа для Canvas:**\n",
    "\n",
    "\n",
    "1. 0 часов\n",
    "2. 45 минут\n",
    "3. 0 час 45 минут\n",
    "4. 0 часов 45 минут\n",
    "\n"
   ]
  },
  {
   "cell_type": "code",
   "execution_count": 56,
   "metadata": {},
   "outputs": [
    {
     "name": "stdout",
     "output_type": "stream",
     "text": [
      "1309\n",
      "21 час 49 минут\n"
     ]
    }
   ],
   "source": [
    "x = int(input())\n",
    "hour = x // 60\n",
    "minute = x % 60\n",
    "час = 'час' if hour % 10 == 1 else 'часа' if 1 < hour % 10 < 5 else 'часов'\n",
    "минута = 'минута' if minute % 10 == 1 else 'минуты' if 1 < minute % 10 < 5 else 'минут'\n",
    "print(f'{hour} {час} {minute} {минута}')"
   ]
  },
  {
   "cell_type": "markdown",
   "metadata": {},
   "source": [
    "4"
   ]
  },
  {
   "cell_type": "markdown",
   "metadata": {
    "id": "VJZuJcAAX2Td"
   },
   "source": [
    "## Задача №4\n",
    "\n",
    "**Условие:** Напишите программу, которая принимает целое число N и определяет, принадлежит ли данное число указанным промежуткам: от минус бесконечности до -10 включительно и от 15 до бесконечности.\n",
    "\n",
    "**Данные для получения ответа:**\n",
    "15\n",
    "\n",
    "**Варианты ответа для Canvas:**\n",
    "\n",
    "\n",
    "1. Принадлежит\n",
    "2. Не принадлежит\n",
    "3. Невозможно дать ответ\n",
    "4. Программа выдаст ошибку\n",
    "\n"
   ]
  },
  {
   "cell_type": "code",
   "execution_count": 6,
   "metadata": {},
   "outputs": [
    {
     "name": "stdout",
     "output_type": "stream",
     "text": [
      "15\n",
      "True\n"
     ]
    }
   ],
   "source": [
    "N = int(input())\n",
    "print(-10 <= N <= 15)"
   ]
  },
  {
   "cell_type": "code",
   "execution_count": 7,
   "metadata": {},
   "outputs": [
    {
     "data": {
      "text/plain": [
       "1"
      ]
     },
     "execution_count": 7,
     "metadata": {},
     "output_type": "execute_result"
    }
   ],
   "source": [
    "1"
   ]
  },
  {
   "cell_type": "markdown",
   "metadata": {
    "id": "Muk2CUktYmUk"
   },
   "source": [
    "## Задача №5\n",
    "\n",
    "**Условие:** Напишите программу, которая принимает целое число N и определяет, принадлежит ли данное число указанным промежуткам: от -3 до 10 включительно и от 35 до 70.\n",
    "\n",
    "**Данные для получения ответа:**\n",
    "-3\n",
    "\n",
    "**Варианты ответа для Canvas:**\n",
    "\n",
    "\n",
    "1. Принадлежит\n",
    "2. Не принадлежит\n",
    "3. Невозможно дать ответ\n",
    "4. Программа выдаст ошибку\n",
    "\n"
   ]
  },
  {
   "cell_type": "code",
   "execution_count": 9,
   "metadata": {},
   "outputs": [
    {
     "name": "stdout",
     "output_type": "stream",
     "text": [
      "-3\n",
      "True\n"
     ]
    }
   ],
   "source": [
    "N = int(input())\n",
    "print((-3 <= N <= 10) or (35 <= N <= 70))"
   ]
  },
  {
   "cell_type": "markdown",
   "metadata": {},
   "source": [
    "1"
   ]
  },
  {
   "cell_type": "markdown",
   "metadata": {
    "id": "h1SQFk5RZDuu"
   },
   "source": [
    "## Задача №6\n",
    "\n",
    "**Условие:** Напишите программу, которая определяет, является ли год с данным номером високосным. Если год является високосным, то выведите «Високосный», иначе выведите «Не високосный».\n",
    "\n",
    "**Данные для получения ответа:**\n",
    "1984\n",
    "1998\n",
    "2002\n",
    "2004\n",
    "\n",
    "**Варианты ответа для Canvas:**\n",
    "\n",
    "\n",
    "1. Високосный, Високосный, Високосный, Високосный\n",
    "2. Високосный, Не високосный, Не високосный, Високосный\n",
    "3. Не високосный, Не високосный, Високосный, Високосный\n",
    "4. Високосный, Високосный, Не високосный, Високосный\n",
    "\n"
   ]
  },
  {
   "cell_type": "code",
   "execution_count": 36,
   "metadata": {},
   "outputs": [
    {
     "name": "stdout",
     "output_type": "stream",
     "text": [
      "2004\n",
      "Високосный\n"
     ]
    }
   ],
   "source": [
    "year = int(input())\n",
    "if not(year % 4) and (year % 100) or not(year % 400):\n",
    "    print('Високосный')\n",
    "else:\n",
    "    print('Не високосный')"
   ]
  },
  {
   "cell_type": "markdown",
   "metadata": {},
   "source": [
    "2"
   ]
  },
  {
   "cell_type": "markdown",
   "metadata": {
    "id": "j8lKmXffaG44"
   },
   "source": [
    "## Задача №7\n",
    "\n",
    "**Условие:**  Преподавателю необходимо распределить студентов для сдачи экзамена по 2-ум аудиториям. Если количество студентов является нечетным числом, то преподаватель округлит количество студентов во второй аудитории в большую сторону. Помогите подсчитать количество студентов во второй аудитории.\n",
    "\n",
    "**Данные для получения ответа:**\n",
    "579\n",
    "\n",
    "**Варианты ответа для Canvas:**\n",
    "\n",
    "\n",
    "1. 289\n",
    "2. 290\n",
    "3. 289.5\n",
    "4. 291\n",
    "\n"
   ]
  },
  {
   "cell_type": "code",
   "execution_count": 40,
   "metadata": {
    "id": "3D-y9f8UqG5S"
   },
   "outputs": [
    {
     "name": "stdout",
     "output_type": "stream",
     "text": [
      "579\n",
      "290\n"
     ]
    }
   ],
   "source": [
    "a = int(input())\n",
    "print((a + 1) // 2)"
   ]
  },
  {
   "cell_type": "markdown",
   "metadata": {
    "id": "LeJNUJ-2qVGf"
   },
   "source": [
    "2"
   ]
  },
  {
   "cell_type": "markdown",
   "metadata": {
    "id": "SaKl5w6PqW2J"
   },
   "source": []
  }
 ],
 "metadata": {
  "colab": {
   "collapsed_sections": [],
   "provenance": [
    {
     "file_id": "1Ij_C4dBVE68vrJz4pSz_ssa09tcQkEq8",
     "timestamp": 1662130152385
    }
   ]
  },
  "kernelspec": {
   "display_name": "Python 3",
   "language": "python",
   "name": "python3"
  },
  "language_info": {
   "codemirror_mode": {
    "name": "ipython",
    "version": 3
   },
   "file_extension": ".py",
   "mimetype": "text/x-python",
   "name": "python",
   "nbconvert_exporter": "python",
   "pygments_lexer": "ipython3",
   "version": "3.7.6"
  }
 },
 "nbformat": 4,
 "nbformat_minor": 1
}
